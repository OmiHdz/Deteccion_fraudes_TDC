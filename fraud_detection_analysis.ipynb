{
 "cells": [
  {
   "cell_type": "markdown",
   "metadata": {},
   "source": [
    "# Proyecto de detección de fraudes de transacciones con Tarjetas de Crédito (TDC)"
   ]
  },
  {
   "cell_type": "markdown",
   "metadata": {},
   "source": [
    "## Definición de problema y objetivo"
   ]
  },
  {
   "cell_type": "markdown",
   "metadata": {},
   "source": [
    "About the Dataset\n",
    "\n",
    "This is a simulated credit card transaction dataset containing legitimate and fraud transactions from the duration 1st Jan 2019 - 31st Dec 2020. It covers credit cards of 1000 customers doing transactions with a pool of 800 merchants."
   ]
  },
  {
   "cell_type": "markdown",
   "metadata": {},
   "source": [
    "### Descripción de los datos"
   ]
  },
  {
   "cell_type": "markdown",
   "metadata": {},
   "source": [
    "### Métricas de evaluación"
   ]
  },
  {
   "cell_type": "markdown",
   "metadata": {},
   "source": [
    "## Importando librerías"
   ]
  },
  {
   "cell_type": "code",
   "execution_count": 11,
   "metadata": {},
   "outputs": [],
   "source": [
    "import pandas as pd\n",
    "import numpy as np\n",
    "import matplotlib as plt\n",
    "import seaborn as sns\n",
    "from sklearn.model_selection import train_test_split\n"
   ]
  },
  {
   "cell_type": "markdown",
   "metadata": {},
   "source": [
    "## Carga de datos"
   ]
  },
  {
   "cell_type": "code",
   "execution_count": 3,
   "metadata": {},
   "outputs": [],
   "source": [
    "test_original = pd.read_csv('C:/Users/ramos/Documents/Tripleten/Proyectos_after_bootcamp/Deteccion_fraudes_TDC/data/fraudTest.csv')\n",
    "train_original = pd.read_csv('C:/Users/ramos/Documents/Tripleten/Proyectos_after_bootcamp/Deteccion_fraudes_TDC/data/fraudTrain.csv')\n",
    "\n",
    "# test_original = pd.read_csv('C:/Users/omarh\\Documents/Tripleten/Proyectos_after_bootcamp/Deteccion_fraudes_TDC/data/fraudTest.csv')\n",
    "# train_original = pd.read_csv('C:/Users/omarh\\Documents/Tripleten/Proyectos_after_bootcamp/Deteccion_fraudes_TDC/data/fraudTrain.csv')\n"
   ]
  },
  {
   "cell_type": "markdown",
   "metadata": {},
   "source": [
    "### Conociendo el contenido de los dataframes:"
   ]
  },
  {
   "cell_type": "code",
   "execution_count": 4,
   "metadata": {},
   "outputs": [],
   "source": [
    "# test_original.info()\n",
    "# train_original.info()"
   ]
  },
  {
   "cell_type": "code",
   "execution_count": 5,
   "metadata": {},
   "outputs": [
    {
     "name": "stdout",
     "output_type": "stream",
     "text": [
      "<class 'pandas.core.frame.DataFrame'>\n",
      "Index: 1852394 entries, 0 to 1296674\n",
      "Data columns (total 22 columns):\n",
      " #   Column                 Non-Null Count    Dtype  \n",
      "---  ------                 --------------    -----  \n",
      " 0   trans_date_trans_time  1852394 non-null  object \n",
      " 1   cc_num                 1852394 non-null  int64  \n",
      " 2   merchant               1852394 non-null  object \n",
      " 3   category               1852394 non-null  object \n",
      " 4   amt                    1852394 non-null  float64\n",
      " 5   first                  1852394 non-null  object \n",
      " 6   last                   1852394 non-null  object \n",
      " 7   gender                 1852394 non-null  object \n",
      " 8   street                 1852394 non-null  object \n",
      " 9   city                   1852394 non-null  object \n",
      " 10  state                  1852394 non-null  object \n",
      " 11  zip                    1852394 non-null  int64  \n",
      " 12  lat                    1852394 non-null  float64\n",
      " 13  long                   1852394 non-null  float64\n",
      " 14  city_pop               1852394 non-null  int64  \n",
      " 15  job                    1852394 non-null  object \n",
      " 16  dob                    1852394 non-null  object \n",
      " 17  trans_num              1852394 non-null  object \n",
      " 18  unix_time              1852394 non-null  int64  \n",
      " 19  merch_lat              1852394 non-null  float64\n",
      " 20  merch_long             1852394 non-null  float64\n",
      " 21  is_fraud               1852394 non-null  int64  \n",
      "dtypes: float64(5), int64(5), object(12)\n",
      "memory usage: 325.1+ MB\n"
     ]
    }
   ],
   "source": [
    "#De manera intuitiva podemos saber que los dataframes tienen las mismas columnas, sin embargo realizamos una verificación\n",
    "# Vamos a unificar los datos para realizar el EDA general, posteriormente vamos separar los datos de entrenamiento y prueba\n",
    "\n",
    "raw_data = pd.concat([test_original,train_original], axis=0)\n",
    "#eliminamos la primer columna \"Unnamed:0\" que es un duplicado del índice\n",
    "raw_data = raw_data.drop(columns=raw_data.columns[0],axis=1)\n",
    "\n",
    "raw_data.head(3)\n",
    "raw_data.info(show_counts=True)\n"
   ]
  },
  {
   "cell_type": "markdown",
   "metadata": {},
   "source": [
    "#### **Descripción del Dataframe**\n",
    "tenemos un dataframe con 1,852,394 registros no nulos\n",
    "\n",
    "##### Descripción de columnas\n",
    "* trans_date_trans_time\t : Fecha de transacción \n",
    "    * tipo object, *_**será cambiado a datetime**_*\n",
    "* ccnum : Número de transacción \n",
    "    * tipo int64\n",
    "* merchant : nombe del comercio donde se hizo la transacción\n",
    "    * tipo object\n",
    "* category : categoría\n",
    "    * tipo object\n",
    "* amt : monto de la transacción\n",
    "    * tipo float64\n",
    "* first : primer nombre del titular de la tarjeta\n",
    "    * tipo object\n",
    "* last : apellido del titular de la tarjeta\n",
    "     * tipo object\n",
    "* gender: género del titular de la tarjeta\n",
    "    * tipo object\n",
    "* street : calle del titular\n",
    "    * tipo object\n",
    "* city : ciudad del titular\n",
    "    * tipo object\n",
    "* state :  estado del titular\n",
    "    * tipo object\n",
    "* zip : código postal del titular\n",
    "    * tipo int64\n",
    "* lat : latitud asociada a la dirección del titular\n",
    "    * tipo float64 \n",
    "* long : longitud asociada a la dirección del titular\n",
    "    * tipo float64\n",
    "* city_pop : población de la ciudad del titular de la tarjeta\n",
    "    * tipo int64\n",
    "* job : profesión del titular\n",
    "    * tipo object\n",
    "* dob : fecha de nacimiento del titular\n",
    "    * tipo object, *_**será cambiado a datetime**_*\n",
    "* trans_num : número único de transacción\n",
    "    * tipo object\n",
    "* unix_time : tiempo de la transacción en formato unix\n",
    "    * tipo int64 , *_**Será eliminado**_*\n",
    "* merch_lat : latitud de la ubicación del comerciante\n",
    "    * tipo float64\n",
    "* merch_long : longitud de la ubicación del comerciante\n",
    "    * tipo float64\n",
    "* is_fraud : es fraude \n",
    "    * tipo int64"
   ]
  },
  {
   "cell_type": "markdown",
   "metadata": {},
   "source": [
    "## Preprocesamiento de datos"
   ]
  },
  {
   "cell_type": "markdown",
   "metadata": {},
   "source": [
    "### Trabajando con dataset **raw_data**\n",
    "* Eliminación de columnas innecesarias\n",
    "* Conversión de tipo de datos en columnas\n",
    "* Verificación de nulos\n",
    "* Eliminación de duplicados\n",
    "* Creación de dataframe con una muestra estratificada"
   ]
  },
  {
   "cell_type": "code",
   "execution_count": 10,
   "metadata": {},
   "outputs": [
    {
     "data": {
      "text/plain": [
       "Index(['trans_date_trans_time', 'cc_num', 'merchant', 'category', 'amt',\n",
       "       'first', 'last', 'gender', 'street', 'city', 'state', 'zip', 'lat',\n",
       "       'long', 'city_pop', 'job', 'dob', 'trans_num', 'merch_lat',\n",
       "       'merch_long', 'is_fraud'],\n",
       "      dtype='object')"
      ]
     },
     "execution_count": 10,
     "metadata": {},
     "output_type": "execute_result"
    }
   ],
   "source": [
    "raw_data.columns"
   ]
  },
  {
   "cell_type": "code",
   "execution_count": 8,
   "metadata": {},
   "outputs": [],
   "source": [
    "#Eliminando columna 'unix_time'\n",
    "raw_data = raw_data.drop(columns='unix_time')\n"
   ]
  },
  {
   "cell_type": "code",
   "execution_count": 82,
   "metadata": {},
   "outputs": [
    {
     "data": {
      "text/plain": [
       "825234   2019-12-09 15:22:40\n",
       "965719   2020-01-25 09:08:44\n",
       "Name: trans_date_trans_time, dtype: datetime64[ns]"
      ]
     },
     "metadata": {},
     "output_type": "display_data"
    },
    {
     "data": {
      "text/plain": [
       "582678   2000-02-20\n",
       "96910    1988-09-15\n",
       "Name: dob, dtype: datetime64[ns]"
      ]
     },
     "metadata": {},
     "output_type": "display_data"
    }
   ],
   "source": [
    "#convirtiendo 'trans_date_trans_time'  a datetime\n",
    "raw_data['trans_date_trans_time'] = pd.to_datetime(raw_data['trans_date_trans_time'])\n",
    "display(raw_data['trans_date_trans_time'].sample(2))\n",
    "\n",
    "raw_data['dob'] = pd.to_datetime(raw_data['dob'])\n",
    "display(raw_data['dob'].sample(2))\n"
   ]
  },
  {
   "cell_type": "code",
   "execution_count": 83,
   "metadata": {},
   "outputs": [
    {
     "data": {
      "text/plain": [
       "trans_date_trans_time    False\n",
       "cc_num                   False\n",
       "merchant                 False\n",
       "category                 False\n",
       "amt                      False\n",
       "first                    False\n",
       "last                     False\n",
       "gender                   False\n",
       "street                   False\n",
       "city                     False\n",
       "state                    False\n",
       "zip                      False\n",
       "lat                      False\n",
       "long                     False\n",
       "city_pop                 False\n",
       "job                      False\n",
       "dob                      False\n",
       "trans_num                False\n",
       "unix_time                False\n",
       "merch_lat                False\n",
       "merch_long               False\n",
       "is_fraud                 False\n",
       "dtype: bool"
      ]
     },
     "execution_count": 83,
     "metadata": {},
     "output_type": "execute_result"
    }
   ],
   "source": [
    "#Verificación de nulos\n",
    "raw_data.isnull().any()\n"
   ]
  },
  {
   "cell_type": "code",
   "execution_count": 12,
   "metadata": {},
   "outputs": [
    {
     "name": "stdout",
     "output_type": "stream",
     "text": [
      "filas antes de eliminación de duplicados: 1852394\n",
      "Filas después de eliminación de duplicados 1852394\n"
     ]
    },
    {
     "data": {
      "text/plain": [
       "(1852394, 21)"
      ]
     },
     "execution_count": 12,
     "metadata": {},
     "output_type": "execute_result"
    }
   ],
   "source": [
    "#Eliminación de duplicados\n",
    "print('filas antes de eliminación de duplicados:',raw_data.shape[0] )\n",
    "raw2=raw_data.drop_duplicates()\n",
    "print('Filas después de eliminación de duplicados',raw2.shape[0])\n",
    "raw_data.shape"
   ]
  },
  {
   "cell_type": "code",
   "execution_count": 15,
   "metadata": {},
   "outputs": [],
   "source": [
    "#Creando una copia del dataframe para trabajar\n",
    "# data = raw_data.copy()"
   ]
  },
  {
   "cell_type": "code",
   "execution_count": 17,
   "metadata": {},
   "outputs": [],
   "source": [
    "#Creando un dataframe con una muestra estratificada del 50%\n",
    "sampled_data,_ = train_test_split(raw_data,\n",
    "                                  test_size=0.5,\n",
    "                                    stratify=raw_data['is_fraud'],\n",
    "                                      random_state=1234)"
   ]
  },
  {
   "cell_type": "code",
   "execution_count": null,
   "metadata": {},
   "outputs": [
    {
     "data": {
      "text/html": [
       "<div>\n",
       "<style scoped>\n",
       "    .dataframe tbody tr th:only-of-type {\n",
       "        vertical-align: middle;\n",
       "    }\n",
       "\n",
       "    .dataframe tbody tr th {\n",
       "        vertical-align: top;\n",
       "    }\n",
       "\n",
       "    .dataframe thead th {\n",
       "        text-align: right;\n",
       "    }\n",
       "</style>\n",
       "<table border=\"1\" class=\"dataframe\">\n",
       "  <thead>\n",
       "    <tr style=\"text-align: right;\">\n",
       "      <th></th>\n",
       "      <th>trans_date_trans_time</th>\n",
       "      <th>cc_num</th>\n",
       "      <th>merchant</th>\n",
       "      <th>category</th>\n",
       "      <th>amt</th>\n",
       "      <th>first</th>\n",
       "      <th>last</th>\n",
       "      <th>gender</th>\n",
       "      <th>street</th>\n",
       "      <th>city</th>\n",
       "      <th>...</th>\n",
       "      <th>zip</th>\n",
       "      <th>lat</th>\n",
       "      <th>long</th>\n",
       "      <th>city_pop</th>\n",
       "      <th>job</th>\n",
       "      <th>dob</th>\n",
       "      <th>trans_num</th>\n",
       "      <th>merch_lat</th>\n",
       "      <th>merch_long</th>\n",
       "      <th>is_fraud</th>\n",
       "    </tr>\n",
       "  </thead>\n",
       "  <tbody>\n",
       "    <tr>\n",
       "      <th>628645</th>\n",
       "      <td>2019-09-23 22:56:10</td>\n",
       "      <td>30135235368675</td>\n",
       "      <td>fraud_Lynch Ltd</td>\n",
       "      <td>shopping_pos</td>\n",
       "      <td>10.87</td>\n",
       "      <td>Amanda</td>\n",
       "      <td>Williams</td>\n",
       "      <td>F</td>\n",
       "      <td>02018 Gary Key Apt. 911</td>\n",
       "      <td>Independence</td>\n",
       "      <td>...</td>\n",
       "      <td>64058</td>\n",
       "      <td>39.1412</td>\n",
       "      <td>-94.3515</td>\n",
       "      <td>123373</td>\n",
       "      <td>Engineer, production</td>\n",
       "      <td>1992-11-27</td>\n",
       "      <td>9ddccdbef4e9260f9eae1bb7613b2047</td>\n",
       "      <td>38.588874</td>\n",
       "      <td>-93.665390</td>\n",
       "      <td>0</td>\n",
       "    </tr>\n",
       "    <tr>\n",
       "      <th>834727</th>\n",
       "      <td>2019-12-12 04:43:39</td>\n",
       "      <td>6011860238257910</td>\n",
       "      <td>fraud_Greenholt, Jacobi and Gleason</td>\n",
       "      <td>gas_transport</td>\n",
       "      <td>43.92</td>\n",
       "      <td>Lisa</td>\n",
       "      <td>Mendez</td>\n",
       "      <td>F</td>\n",
       "      <td>44259 Beth Station Suite 215</td>\n",
       "      <td>Lahoma</td>\n",
       "      <td>...</td>\n",
       "      <td>73754</td>\n",
       "      <td>36.3850</td>\n",
       "      <td>-98.0727</td>\n",
       "      <td>1078</td>\n",
       "      <td>Programme researcher, broadcasting/film/video</td>\n",
       "      <td>1952-07-06</td>\n",
       "      <td>4f09623ca35aaf3fdaf69c0352f1ee60</td>\n",
       "      <td>36.493311</td>\n",
       "      <td>-98.993213</td>\n",
       "      <td>0</td>\n",
       "    </tr>\n",
       "  </tbody>\n",
       "</table>\n",
       "<p>2 rows × 21 columns</p>\n",
       "</div>"
      ],
      "text/plain": [
       "       trans_date_trans_time            cc_num  \\\n",
       "628645   2019-09-23 22:56:10    30135235368675   \n",
       "834727   2019-12-12 04:43:39  6011860238257910   \n",
       "\n",
       "                                   merchant       category    amt   first  \\\n",
       "628645                      fraud_Lynch Ltd   shopping_pos  10.87  Amanda   \n",
       "834727  fraud_Greenholt, Jacobi and Gleason  gas_transport  43.92    Lisa   \n",
       "\n",
       "            last gender                        street          city  ...  \\\n",
       "628645  Williams      F       02018 Gary Key Apt. 911  Independence  ...   \n",
       "834727    Mendez      F  44259 Beth Station Suite 215        Lahoma  ...   \n",
       "\n",
       "          zip      lat     long  city_pop  \\\n",
       "628645  64058  39.1412 -94.3515    123373   \n",
       "834727  73754  36.3850 -98.0727      1078   \n",
       "\n",
       "                                                  job         dob  \\\n",
       "628645                           Engineer, production  1992-11-27   \n",
       "834727  Programme researcher, broadcasting/film/video  1952-07-06   \n",
       "\n",
       "                               trans_num  merch_lat  merch_long  is_fraud  \n",
       "628645  9ddccdbef4e9260f9eae1bb7613b2047  38.588874  -93.665390         0  \n",
       "834727  4f09623ca35aaf3fdaf69c0352f1ee60  36.493311  -98.993213         0  \n",
       "\n",
       "[2 rows x 21 columns]"
      ]
     },
     "execution_count": 19,
     "metadata": {},
     "output_type": "execute_result"
    }
   ],
   "source": [
    "sampled_data.shape"
   ]
  },
  {
   "cell_type": "markdown",
   "metadata": {},
   "source": [
    "## Análisis exploratorio de los datos (EDA)"
   ]
  },
  {
   "cell_type": "markdown",
   "metadata": {},
   "source": [
    "### Unificando y analizando dataframes"
   ]
  },
  {
   "cell_type": "markdown",
   "metadata": {},
   "source": [
    "### Conclusiones EDA"
   ]
  },
  {
   "cell_type": "markdown",
   "metadata": {},
   "source": [
    "## Creando dataset para el modelo"
   ]
  },
  {
   "cell_type": "markdown",
   "metadata": {},
   "source": [
    "### Imputación de nulos"
   ]
  },
  {
   "cell_type": "markdown",
   "metadata": {},
   "source": [
    "## Análisis y Selección de características (Feature engineering)"
   ]
  },
  {
   "cell_type": "markdown",
   "metadata": {},
   "source": [
    "## Codificación y estandarización de los datos"
   ]
  },
  {
   "cell_type": "markdown",
   "metadata": {},
   "source": [
    "### Categorización de datos \n",
    "(Onehot por ejemplo)\n",
    "evaluar mantener una copia de datos sin escalar"
   ]
  },
  {
   "cell_type": "markdown",
   "metadata": {},
   "source": [
    "### Escalando datos"
   ]
  },
  {
   "cell_type": "markdown",
   "metadata": {},
   "source": [
    "## Manejo de desabalanceo de datos"
   ]
  },
  {
   "cell_type": "markdown",
   "metadata": {},
   "source": [
    "## Creación del modelo y modelo benchmark"
   ]
  }
 ],
 "metadata": {
  "kernelspec": {
   "display_name": "proyecto2",
   "language": "python",
   "name": "python3"
  },
  "language_info": {
   "codemirror_mode": {
    "name": "ipython",
    "version": 3
   },
   "file_extension": ".py",
   "mimetype": "text/x-python",
   "name": "python",
   "nbconvert_exporter": "python",
   "pygments_lexer": "ipython3",
   "version": "3.10.13"
  }
 },
 "nbformat": 4,
 "nbformat_minor": 2
}
